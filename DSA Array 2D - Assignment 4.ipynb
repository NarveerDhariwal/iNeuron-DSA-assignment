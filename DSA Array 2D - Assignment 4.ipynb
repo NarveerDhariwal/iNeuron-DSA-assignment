{
 "cells": [
  {
   "cell_type": "markdown",
   "id": "a07ca7c8",
   "metadata": {},
   "source": [
    "💡 **Question 1**\n",
    "Given three integer arrays arr1, arr2 and arr3 **sorted** in **strictly increasing** order, return a sorted array of **only** the integers that appeared in **all** three arrays.\n",
    "\n",
    "**Example 1:**\n",
    "\n",
    "Input: arr1 = [1,2,3,4,5], arr2 = [1,2,5,7,9], arr3 = [1,3,4,5,8]\n",
    "\n",
    "Output: [1,5]\n",
    "\n",
    "**Explanation:** Only 1 and 5 appeared in the three arrays.\n"
   ]
  },
  {
   "cell_type": "code",
   "execution_count": 15,
   "id": "64a08e27",
   "metadata": {},
   "outputs": [
    {
     "name": "stdout",
     "output_type": "stream",
     "text": [
      "[1, 5]\n"
     ]
    }
   ],
   "source": [
    "def searchElement(arr1, arr2, arr3):\n",
    "    result = []\n",
    "    i, j, k = 0, 0, 0\n",
    "    while (i<len(arr1) and j < len(arr2) and k < len(arr3)):\n",
    "        if arr1[i] == arr2[j] == arr3[k]:\n",
    "            result.append(arr1[i])\n",
    "            i+=1\n",
    "            j+=1\n",
    "            k+=1\n",
    "        elif arr1[i] < arr2[j]:\n",
    "            i+=1\n",
    "        elif arr2[j] < arr3[k]:\n",
    "            j+=1\n",
    "        else:\n",
    "            k+=1\n",
    "                \n",
    "    return result\n",
    "    \n",
    "\n",
    "arr1 = [1,2,3,4,5]\n",
    "arr2 = [1,2,5,7,9]\n",
    "arr3 = [1,3,4,5,8]\n",
    "\n",
    "result = searchElement(arr1,arr2,arr3)\n",
    "print(result)"
   ]
  },
  {
   "cell_type": "markdown",
   "id": "b49980e4",
   "metadata": {},
   "source": [
    "Question 2\n",
    "\n",
    "Given two 0-indexed integer arrays nums1 and nums2, return a list answer of size 2 where:\n",
    "•\tanswer[0] is a list of all distinct integers in nums1 which are not present in nums2*.*\n",
    "•\tanswer[1] is a list of all distinct integers in nums2 which are not present in nums1.\n",
    "Note that the integers in the lists may be returned in any order.\n",
    "Example 1:\n",
    "Input: nums1 = [1,2,3], nums2 = [2,4,6]\n",
    "Output: [[1,3],[4,6]]\n",
    "Explanation:\n",
    "For nums1, nums1[1] = 2 is present at index 0 of nums2, whereas nums1[0] = 1 and nums1[2] = 3 are not present in nums2. Therefore, answer[0] = [1,3].\n",
    "For nums2, nums2[0] = 2 is present at index 1 of nums1, whereas nums2[1] = 4 and nums2[2] = 6 are not present in nums2. Therefore, answer[1] = [4,6]\n"
   ]
  },
  {
   "cell_type": "code",
   "execution_count": 1,
   "id": "e6dc5627",
   "metadata": {},
   "outputs": [
    {
     "name": "stdout",
     "output_type": "stream",
     "text": [
      "[[1, 3], [4, 6]]\n"
     ]
    }
   ],
   "source": [
    "def searchElement(nums1, nums2):\n",
    "    \n",
    "    return [list(set(nums1)-set(nums2)), list(set(nums2)-set(nums1))]\n",
    "\n",
    "nums1 = [1,2,3]\n",
    "nums2 = [2,4,6]\n",
    "\n",
    "result = searchElement(nums1, nums2)\n",
    "\n",
    "print(result)"
   ]
  },
  {
   "cell_type": "markdown",
   "id": "87e82cbb",
   "metadata": {},
   "source": [
    "💡 Question 3 \n",
    "\n",
    "Given a 2D integer array matrix, return the transpose of matrix.\n",
    "The transpose of a matrix is the matrix flipped over its main diagonal, switching the matrix's row and column indices.\n",
    "Example 1:\n",
    "Input: matrix = [[1,2,3],[4,5,6],[7,8,9]]\n",
    "Output: [[1,4,7],[2,5,8],[3,6,9]]\n"
   ]
  },
  {
   "cell_type": "code",
   "execution_count": 5,
   "id": "5138f30a",
   "metadata": {},
   "outputs": [
    {
     "name": "stdout",
     "output_type": "stream",
     "text": [
      "[[1, 4, 7], [2, 5, 8], [3, 6, 9]]\n"
     ]
    }
   ],
   "source": [
    "def TraverseMatrix(matrix):\n",
    "    \n",
    "    m = len(matrix)\n",
    "    n = len(matrix[0])\n",
    "    \n",
    "    result = [[None]*m for _ in range(n)]\n",
    "    \n",
    "    for i in range(m):\n",
    "        for j in range(n):\n",
    "            result[j][i] = matrix[i][j]\n",
    "            \n",
    "    return result\n",
    "\n",
    "matrix = [[1,2,3],[4,5,6],[7,8,9]]\n",
    "\n",
    "ans = TraverseMatrix(matrix)\n",
    "\n",
    "print(ans)"
   ]
  },
  {
   "cell_type": "markdown",
   "id": "e5b1bb2c",
   "metadata": {},
   "source": [
    "💡 Question 4 \n",
    "\n",
    "Given an integer array nums of 2n integers, group these integers into n pairs (a1, b1), (a2, b2), ..., (an, bn) such that the sum of min(ai, bi) for all i is maximized. Return the maximized sum.\n",
    "Example 1:\n",
    "Input: nums = [1,4,3,2]\n",
    "Output: 4\n",
    "Explanation: All possible pairings (ignoring the ordering of elements) are:\n",
    "1.\t(1, 4), (2, 3) -> min(1, 4) + min(2, 3) = 1 + 2 = 3\n",
    "2.\t(1, 3), (2, 4) -> min(1, 3) + min(2, 4) = 1 + 2 = 3\n",
    "3.\t(1, 2), (3, 4) -> min(1, 2) + min(3, 4) = 1 + 3 = 4\n",
    "So the maximum possible sum is 4."
   ]
  },
  {
   "cell_type": "code",
   "execution_count": 11,
   "id": "036b2c59",
   "metadata": {},
   "outputs": [
    {
     "name": "stdout",
     "output_type": "stream",
     "text": [
      "4\n"
     ]
    }
   ],
   "source": [
    "def arrayPairSum(nums):\n",
    "    nums.sort()\n",
    "    p1 = 0\n",
    "    p2 = 1\n",
    "    max_sum = 0\n",
    "\n",
    "    while p1 <len(nums) and p2<len(nums):\n",
    "        max_sum+=min(nums[p1], nums[p2])\n",
    "        p1+=2\n",
    "        p2+=2\n",
    "\n",
    "    return max_sum\n",
    "\n",
    "nums = [1,4,3,2]\n",
    "result = arrayPairSum(nums)\n",
    "\n",
    "print(result)\n",
    "    "
   ]
  },
  {
   "cell_type": "markdown",
   "id": "2dbe7b3f",
   "metadata": {},
   "source": [
    "💡 Question 5 \n",
    "\n",
    "You have n coins and you want to build a staircase with these coins. The staircase consists of k rows where the ith row has exactly i coins. The last row of the staircase may be incomplete.\n",
    "Given the integer n, return the number of complete rows of the staircase you will build.\n",
    "\n"
   ]
  },
  {
   "cell_type": "code",
   "execution_count": 13,
   "id": "bc9c7676",
   "metadata": {},
   "outputs": [
    {
     "name": "stdout",
     "output_type": "stream",
     "text": [
      "3\n"
     ]
    }
   ],
   "source": [
    "def coins(n):\n",
    "    left = 1\n",
    "    right = n\n",
    "    \n",
    "    while left <= right:\n",
    "        \n",
    "        mid = left + (right - left)//2\n",
    "        \n",
    "        coins = mid * (mid+1)//2\n",
    "        \n",
    "        if coins > n:\n",
    "            right = mid - 1\n",
    "            \n",
    "        else:\n",
    "            left = mid + 1\n",
    "            \n",
    "    return right\n",
    "\n",
    "n = 8\n",
    "\n",
    "result = coins(n)\n",
    "print(result)"
   ]
  },
  {
   "cell_type": "markdown",
   "id": "b18e0a48",
   "metadata": {},
   "source": [
    "💡 Question 6 \n",
    "\n",
    "Given an integer array nums sorted in non-decreasing order, return an array of the squares of each number sorted in non-decreasing order.\n",
    "Example 1:\n",
    "Input: nums = [-4,-1,0,3,10]\n",
    "Output: [0,1,9,16,100]\n",
    "Explanation: After squaring, the array becomes [16,1,0,9,100]. After sorting, it becomes [0,1,9,16,100]\n",
    "\n",
    "\n"
   ]
  },
  {
   "cell_type": "code",
   "execution_count": 17,
   "id": "ca6ee36b",
   "metadata": {},
   "outputs": [
    {
     "name": "stdout",
     "output_type": "stream",
     "text": [
      "[0, 1, 9, 16, 100]\n"
     ]
    }
   ],
   "source": [
    "def squaredArray(nums):\n",
    "    \n",
    "    for i in range(len(nums)):\n",
    "        nums[i] = nums[i] * nums[i]\n",
    "        \n",
    "        \n",
    "    return sorted(nums)\n",
    "\n",
    "nums = [-4,-1,0,3,10]\n",
    "\n",
    "result = squaredArray(nums)\n",
    "\n",
    "print(result)"
   ]
  },
  {
   "cell_type": "markdown",
   "id": "b200a7ec",
   "metadata": {},
   "source": [
    "💡 Question 7 \n",
    "\n",
    "You are given an m x n matrix M initialized with all 0's and an array of operations ops, where ops[i] = [ai, bi] means M[x][y] should be incremented by one for all 0 <= x < ai and 0 <= y < bi.\n",
    "Count and return the number of maximum integers in the matrix after performing all the operations\n",
    "Example 1:\n",
    " \n",
    "Input: m = 3, n = 3, ops = [[2,2],[3,3]]\n",
    "Output: 4\n",
    "Explanation: The maximum integer in M is 2, and there are four of it in M. So return 4.\n"
   ]
  },
  {
   "cell_type": "code",
   "execution_count": 25,
   "id": "2e8ef613",
   "metadata": {},
   "outputs": [
    {
     "name": "stdout",
     "output_type": "stream",
     "text": [
      "4\n"
     ]
    }
   ],
   "source": [
    "def maxCount(m, n, ops):\n",
    "    min_rows = m\n",
    "    min_cols = n\n",
    "\n",
    "    for i in ops:\n",
    "        min_rows = min(min_rows, i[0])\n",
    "        min_cols = min(min_cols, i[1])\n",
    "\n",
    "    return min_rows * min_cols\n",
    "m = 3\n",
    "n = 3\n",
    "\n",
    "ops = [[2,2],[3,3]]\n",
    "\n",
    "result = maxCount(m,n,ops)\n",
    "print(result)"
   ]
  },
  {
   "cell_type": "markdown",
   "id": "24ee6704",
   "metadata": {},
   "source": [
    "💡 Question 8\n",
    "\n",
    "Given the array nums consisting of 2n elements in the form [x1,x2,...,xn,y1,y2,...,yn].\n",
    "Return the array in the form [x1,y1,x2,y2,...,xn,yn].\n",
    "Example 1:\n",
    "Input: nums = [2,5,1,3,4,7], n = 3\n",
    "Output: [2,3,5,4,1,7]\n",
    "\n",
    "\n"
   ]
  },
  {
   "cell_type": "code",
   "execution_count": null,
   "id": "eb767dd8",
   "metadata": {},
   "outputs": [],
   "source": [
    "def shuffle(nums, n: int) -> List[int]:\n",
    "    l = []\n",
    "    for i in range(n):\n",
    "        l.append(nums[i])\n",
    "        l.append(nums[n+i])\n",
    "\n",
    "    return l\n",
    "\n",
    "nums = [2,5,1,3,4,7]\n",
    "n = 3\n",
    "\n",
    "result = shuffle(nums, n)\n",
    "\n",
    "print(result)"
   ]
  }
 ],
 "metadata": {
  "kernelspec": {
   "display_name": "Python 3 (ipykernel)",
   "language": "python",
   "name": "python3"
  },
  "language_info": {
   "codemirror_mode": {
    "name": "ipython",
    "version": 3
   },
   "file_extension": ".py",
   "mimetype": "text/x-python",
   "name": "python",
   "nbconvert_exporter": "python",
   "pygments_lexer": "ipython3",
   "version": "3.11.3"
  }
 },
 "nbformat": 4,
 "nbformat_minor": 5
}
