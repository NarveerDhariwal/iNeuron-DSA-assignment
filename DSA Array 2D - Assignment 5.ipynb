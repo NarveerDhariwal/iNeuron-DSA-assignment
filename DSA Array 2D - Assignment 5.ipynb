{
 "cells": [
  {
   "cell_type": "markdown",
   "id": "fa40a2f6",
   "metadata": {},
   "source": [
    "💡 Question 1\n",
    "\n",
    "Convert 1D Array Into 2D Array\n",
    "You are given a 0-indexed 1-dimensional (1D) integer array original, and two integers, m and n. You are tasked with creating a 2-dimensional (2D) array with  m rows and n columns using all the elements from original.\n",
    "The elements from indices 0 to n - 1 (inclusive) of original should form the first row of the constructed 2D array, the elements from indices n to 2 * n - 1 (inclusive) should form the second row of the constructed 2D array, and so on.\n",
    "Return an m x n 2D array constructed according to the above procedure, or an empty 2D array if it is impossible.\n",
    "\n",
    "**Input:** original = [1,2,3,4], m = 2, n = 2\n",
    "\n",
    "**Output:** [[1,2],[3,4]]\n",
    "\n",
    "**Explanation:** The constructed 2D array should contain 2 rows and 2 columns.\n",
    "\n",
    "The first group of n=2 elements in original, [1,2], becomes the first row in the constructed 2D array.\n",
    "\n",
    "The second group of n=2 elements in original, [3,4], becomes the second row in the constructed 2D array.\n"
   ]
  },
  {
   "cell_type": "code",
   "execution_count": 2,
   "id": "4783123e",
   "metadata": {},
   "outputs": [
    {
     "name": "stdout",
     "output_type": "stream",
     "text": [
      "[[1, 2], [3, 4]]\n"
     ]
    }
   ],
   "source": [
    "def Array2D(original, m, n):\n",
    "\n",
    "    if m*n != len(original):\n",
    "        return []\n",
    "    else:\n",
    "        matrix = [[0]*n for _ in range(m)]\n",
    "        k=0\n",
    "        for i in range(m):\n",
    "            for j in range(n):\n",
    "                matrix[i][j] = original[k]\n",
    "                k+=1\n",
    "\n",
    "        return matrix\n",
    "\n",
    "original = [1,2,3,4]\n",
    "m = 2\n",
    "n = 2\n",
    "\n",
    "result = Array2D(original, m, n)\n",
    "print(result)"
   ]
  },
  {
   "cell_type": "markdown",
   "id": "44eafea5",
   "metadata": {},
   "source": [
    "💡 Question 2\n",
    "\n",
    "You have n coins and you want to build a staircase with these coins. The staircase consists of k rows where the ith row has exactly i coins. The last row of the staircase may be incomplete.\n",
    "Given the integer n, return the number of complete rows of the staircase you will build.\n",
    "Example 1:\n",
    "Input: n = 5\n",
    "Output: 2\n",
    "Explanation: Because the 3rd row is incomplete, we return 2.\n",
    "\n"
   ]
  },
  {
   "cell_type": "code",
   "execution_count": 5,
   "id": "f2c954de",
   "metadata": {},
   "outputs": [
    {
     "name": "stdout",
     "output_type": "stream",
     "text": [
      "2\n"
     ]
    }
   ],
   "source": [
    "def coins(n):\n",
    "    left = 1\n",
    "    right = n\n",
    "    \n",
    "    while left <= right:\n",
    "        \n",
    "        mid = left + (right - left)//2\n",
    "        \n",
    "        coins = mid * (mid+1)//2\n",
    "        \n",
    "        if coins > n:\n",
    "            right = mid - 1\n",
    "        else:\n",
    "            left = mid + 1\n",
    "            \n",
    "    return right\n",
    "\n",
    "n = 5\n",
    "result = coins(n)\n",
    "print(result)"
   ]
  },
  {
   "cell_type": "markdown",
   "id": "89152997",
   "metadata": {},
   "source": [
    "Question 3\n",
    "\n",
    "Given an integer array nums sorted in non-decreasing order, return an array of the squares of each number sorted in non-decreasing order.\n",
    "Example 1:\n",
    "Input: nums = [-4,-1,0,3,10]\n",
    "Output: [0,1,9,16,100]\n",
    "Explanation: After squaring, the array becomes [16,1,0,9,100].\n",
    "After sorting, it becomes [0,1,9,16,100].\n",
    "\n"
   ]
  },
  {
   "cell_type": "code",
   "execution_count": 6,
   "id": "22e45207",
   "metadata": {},
   "outputs": [
    {
     "name": "stdout",
     "output_type": "stream",
     "text": [
      "[0, 1, 9, 16, 100]\n"
     ]
    }
   ],
   "source": [
    "def squaredArray(nums):\n",
    "    return sorted([i*i for i in nums])\n",
    "\n",
    "nums = [-4,-1,0,3,10]\n",
    "result = squaredArray(nums)\n",
    "\n",
    "print(result)"
   ]
  },
  {
   "cell_type": "markdown",
   "id": "df3fac5a",
   "metadata": {},
   "source": [
    "Question 4\n",
    "\n",
    "Given two 0-indexed integer arrays nums1 and nums2, return a list answer of size 2 where:\n",
    "•\tanswer[0] is a list of all distinct integers in nums1 which are not present in nums2*.*\n",
    "•\tanswer[1] is a list of all distinct integers in nums2 which are not present in nums1.\n",
    "Note that the integers in the lists may be returned in any order.\n",
    "Example 1:\n",
    "Input: nums1 = [1,2,3], nums2 = [2,4,6]\n",
    "Output: [[1,3],[4,6]]\n",
    "Explanation:\n",
    "For nums1, nums1[1] = 2 is present at index 0 of nums2, whereas nums1[0] = 1 and nums1[2] = 3 are not present in nums2. Therefore, answer[0] = [1,3].\n",
    "For nums2, nums2[0] = 2 is present at index 1 of nums1, whereas nums2[1] = 4 and nums2[2] = 6 are not present in nums2. Therefore, answer[1] = [4,6].\n",
    "\n"
   ]
  },
  {
   "cell_type": "code",
   "execution_count": 10,
   "id": "ec2aab20",
   "metadata": {},
   "outputs": [
    {
     "name": "stdout",
     "output_type": "stream",
     "text": [
      "[[1, 3], [4, 6]]\n"
     ]
    }
   ],
   "source": [
    "def distinctElement(nums1, nums2):    \n",
    "    return [list(set(nums1) - set(nums2)), list(set(nums2) - set(nums1))]\n",
    "\n",
    "nums1 = [1,2,3]\n",
    "nums2 = [2,4,6]\n",
    "\n",
    "result = distinctElement(nums1, nums2)\n",
    "print(result)"
   ]
  },
  {
   "cell_type": "markdown",
   "id": "51ae1557",
   "metadata": {},
   "source": [
    "💡 Question 5\n",
    "\n",
    "Given two integer arrays arr1 and arr2, and the integer d, return the distance value between the two arrays.\n",
    "The distance value is defined as the number of elements arr1[i] such that there is not any element arr2[j] where |arr1[i]-arr2[j]| <= d.\n",
    "Example 1:\n",
    "Input: arr1 = [4,5,8], arr2 = [10,9,1,8], d = 2\n",
    "Output: 2\n",
    "Explanation:\n",
    "For arr1[0]=4 we have:\n",
    "|4-10|=6 > d=2\n",
    "|4-9|=5 > d=2\n",
    "|4-1|=3 > d=2\n",
    "|4-8|=4 > d=2\n",
    "For arr1[1]=5 we have:\n",
    "|5-10|=5 > d=2\n",
    "|5-9|=4 > d=2\n",
    "|5-1|=4 > d=2\n",
    "|5-8|=3 > d=2\n",
    "For arr1[2]=8 we have:\n",
    "|8-10|=2 <= d=2\n",
    "|8-9|=1 <= d=2\n",
    "|8-1|=7 > d=2\n",
    "|8-8|=0 <= d=2\n",
    "\n",
    "\n"
   ]
  },
  {
   "cell_type": "code",
   "execution_count": 1,
   "id": "5a3d21f5",
   "metadata": {},
   "outputs": [
    {
     "name": "stdout",
     "output_type": "stream",
     "text": [
      "2\n"
     ]
    }
   ],
   "source": [
    "def distanceValue(arr1, arr2, d):\n",
    "    arr2.sort()\n",
    "    count = len(arr1)\n",
    "    for i in arr1:\n",
    "        left = 0\n",
    "        right = len(arr2)-1\n",
    "        while left <= right:\n",
    "            mid = left + (right - left)//2\n",
    "\n",
    "            if abs(i - arr2[mid]) <= d:\n",
    "                count-=1\n",
    "                break\n",
    "            elif i < arr2[mid]:\n",
    "                right = mid -1\n",
    "            else:\n",
    "                left = mid + 1\n",
    "    return count\n",
    "\n",
    "arr1 = [4,5,8]\n",
    "arr2 = [10,9,1,8]\n",
    "d = 2\n",
    "\n",
    "result = distanceValue(arr1, arr2, d)\n",
    "print(result)"
   ]
  },
  {
   "cell_type": "markdown",
   "id": "21ccb999",
   "metadata": {},
   "source": [
    "💡 **Question 6**\n",
    "\n",
    "Given an integer array nums of length n where all the integers of nums are in the range [1, n] and each integer appears **once** or **twice**, return *an array of all the integers that appears **twice***.\n",
    "\n",
    "You must write an algorithm that runs in O(n) time and uses only constant extra space.\n",
    "\n",
    "**Example 1:**\n",
    "\n",
    "**Input:** nums = [4,3,2,7,8,2,3,1]\n",
    "\n",
    "**Output:**\n",
    "\n",
    "[2,3]\n"
   ]
  },
  {
   "cell_type": "code",
   "execution_count": 8,
   "id": "1b1ccaf2",
   "metadata": {},
   "outputs": [
    {
     "name": "stdout",
     "output_type": "stream",
     "text": [
      "[3, 2]\n"
     ]
    }
   ],
   "source": [
    "def twiceNumber(nums):\n",
    "    d={}\n",
    "\n",
    "    for i in nums:\n",
    "        if i not in d:\n",
    "            d[i] = 1\n",
    "        else:\n",
    "            d[i]+=1\n",
    "\n",
    "    l = [k for k,v in d.items() if v==2]\n",
    "\n",
    "    return l\n",
    "\n",
    "nums = [4,3,2,7,8,2,3,1]\n",
    "result = twiceNumber(nums)\n",
    "\n",
    "print(result)"
   ]
  },
  {
   "cell_type": "markdown",
   "id": "f7174071",
   "metadata": {},
   "source": [
    "💡 Question 7\n",
    "\n",
    "Suppose an array of length n sorted in ascending order is rotated between 1 and n times. For example, the array nums = [0,1,2,4,5,6,7] might become:\n",
    "•\t[4,5,6,7,0,1,2] if it was rotated 4 times.\n",
    "•\t[0,1,2,4,5,6,7] if it was rotated 7 times.\n",
    "Notice that rotating an array [a[0], a[1], a[2], ..., a[n-1]] 1 time results in the array [a[n-1], a[0], a[1], a[2], ..., a[n-2]].\n",
    "Given the sorted rotated array nums of unique elements, return the minimum element of this array.\n",
    "You must write an algorithm that runs in O(log n) time.\n",
    "Example 1:\n",
    "Input: nums = [3,4,5,1,2]\n",
    "Output: 1\n",
    "Explanation:\n",
    "The original array was [1,2,3,4,5] rotated 3 times.\n",
    "\n"
   ]
  },
  {
   "cell_type": "code",
   "execution_count": 13,
   "id": "4e3304e0",
   "metadata": {},
   "outputs": [
    {
     "name": "stdout",
     "output_type": "stream",
     "text": [
      "1\n"
     ]
    }
   ],
   "source": [
    "def minElement(nums):\n",
    "    left = 0\n",
    "    right = len(nums) - 1\n",
    "\n",
    "    while left <= right:\n",
    "        mid = left + (right - left)//2\n",
    "\n",
    "        if nums[mid] < nums[right]:\n",
    "            right = mid\n",
    "        else:\n",
    "            left = mid + 1\n",
    "    return nums[right]\n",
    "\n",
    "nums = [3,4,5,1,2]\n",
    "result = minElement(nums)\n",
    "print(result)"
   ]
  },
  {
   "cell_type": "markdown",
   "id": "b3732608",
   "metadata": {},
   "source": [
    "💡 Question 8\n",
    "\n",
    "An integer array original is transformed into a doubled array changed by appending twice the value of every element in original, and then randomly shuffling the resulting array.\n",
    "Given an array changed, return original if changed is a doubled array. If changed is not a doubled array, return an empty array. The elements in original may be returned in any order.\n",
    "Example 1:\n",
    "Input: changed = [1,3,4,2,6,8]\n",
    "Output: [1,3,4]\n",
    "Explanation: One possible original array could be [1,3,4]:\n",
    "•\tTwice the value of 1 is 1 * 2 = 2.\n",
    "•\tTwice the value of 3 is 3 * 2 = 6.\n",
    "•\tTwice the value of 4 is 4 * 2 = 8.\n",
    "Other original arrays could be [4,3,1] or [3,1,4].\n",
    "\n"
   ]
  },
  {
   "cell_type": "code",
   "execution_count": 3,
   "id": "04997424",
   "metadata": {},
   "outputs": [
    {
     "name": "stdout",
     "output_type": "stream",
     "text": [
      "[1, 3, 4]\n"
     ]
    }
   ],
   "source": [
    "from collections import Counter\n",
    "def halfArray(changed):\n",
    "    if len(changed)%2!=0:\n",
    "            return []\n",
    "\n",
    "    a=[]\n",
    "    changed=sorted(changed)\n",
    "    count=0\n",
    "    if [0]*len(changed)==changed:\n",
    "        return [0]*(len(changed)//2)\n",
    "\n",
    "    c=Counter(changed)\n",
    "\n",
    "    for x in changed:\n",
    "        if x*2 in c:\n",
    "            if c[x]>0 and c[x*2]>0:\n",
    "                c[x*2]-=1\n",
    "                c[x]-=1\n",
    "                a.append(x)\n",
    "\n",
    "    for i,x in c.items():\n",
    "        if x>0:\n",
    "            return []\n",
    "    return a\n",
    "\n",
    "changed = [1,3,4,2,6,8]\n",
    "\n",
    "result = halfArray(changed)\n",
    "\n",
    "print(result)"
   ]
  },
  {
   "cell_type": "code",
   "execution_count": null,
   "id": "7e06ce25",
   "metadata": {},
   "outputs": [],
   "source": []
  },
  {
   "cell_type": "code",
   "execution_count": null,
   "id": "57a5bac8",
   "metadata": {},
   "outputs": [],
   "source": []
  },
  {
   "cell_type": "code",
   "execution_count": null,
   "id": "6aa03a9a",
   "metadata": {},
   "outputs": [],
   "source": []
  }
 ],
 "metadata": {
  "kernelspec": {
   "display_name": "Python 3 (ipykernel)",
   "language": "python",
   "name": "python3"
  },
  "language_info": {
   "codemirror_mode": {
    "name": "ipython",
    "version": 3
   },
   "file_extension": ".py",
   "mimetype": "text/x-python",
   "name": "python",
   "nbconvert_exporter": "python",
   "pygments_lexer": "ipython3",
   "version": "3.11.3"
  }
 },
 "nbformat": 4,
 "nbformat_minor": 5
}
