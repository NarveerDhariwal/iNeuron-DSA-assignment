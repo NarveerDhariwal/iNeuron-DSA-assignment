{
 "cells": [
  {
   "cell_type": "markdown",
   "id": "51f97110",
   "metadata": {},
   "source": [
    "💡 Question 1\n",
    "\n",
    "Given two strings s and t, determine if they are isomorphic.\n",
    "Two strings s and t are isomorphic if the characters in s can be replaced to get t.\n",
    "All occurrences of a character must be replaced with another character while preserving the order of characters. No two characters may map to the same character, but a character may map to itself.\n",
    "Example 1:\n",
    "Input: s = \"egg\", t = \"add\"\n",
    "Output: true\n",
    "\n"
   ]
  },
  {
   "cell_type": "code",
   "execution_count": 5,
   "id": "7dfdafb7",
   "metadata": {},
   "outputs": [
    {
     "name": "stdout",
     "output_type": "stream",
     "text": [
      "True\n"
     ]
    }
   ],
   "source": [
    "def isIsomorphic(s,t):\n",
    "    s1 = []\n",
    "    t1 = []\n",
    "\n",
    "    for i in s:\n",
    "        s1.append(s.index(i))\n",
    "    for j in t:\n",
    "        t1.append(t.index(j))\n",
    "\n",
    "    return s1 == t1\n",
    "\n",
    "s = \"egg\"\n",
    "t = \"add\"\n",
    "\n",
    "result = isIsomorphic(s,t)\n",
    "print(result)"
   ]
  },
  {
   "cell_type": "markdown",
   "id": "9c8561e5",
   "metadata": {},
   "source": [
    "💡 Question 2\n",
    "\n",
    "Given a string num which represents an integer, return true if num is a strobogrammatic number.\n",
    "A strobogrammatic number is a number that looks the same when rotated 180 degrees (looked at upside down).\n",
    "Example 1:\n",
    "Input: num = \"69\"\n",
    "Output:\n",
    "true\n"
   ]
  },
  {
   "cell_type": "code",
   "execution_count": 19,
   "id": "6ac07741",
   "metadata": {},
   "outputs": [
    {
     "name": "stdout",
     "output_type": "stream",
     "text": [
      "True\n"
     ]
    }
   ],
   "source": [
    "def isStrobogrammatic(num):\n",
    "    d = [('0',0),('1','1'),('6','9'),('8','8'),('9','6')]\n",
    "    \n",
    "    i = 0\n",
    "    j = len(num)-1\n",
    "    \n",
    "    while i<=j:\n",
    "        if (num[i], num[j]) not in d:\n",
    "            return False\n",
    "        i+=1\n",
    "        j-=1\n",
    "    return True\n",
    "        \n",
    "\n",
    "num = \"69\"\n",
    "result = isStrobogrammatic(num)\n",
    "print(result)"
   ]
  },
  {
   "cell_type": "markdown",
   "id": "bc578ab9",
   "metadata": {},
   "source": [
    "💡 Question 3\n",
    "\n",
    "Given two non-negative integers, num1 and num2 represented as string, return the sum of num1 and num2 as a string.\n",
    "You must solve the problem without using any built-in library for handling large integers (such as BigInteger). You must also not convert the inputs to integers directly.\n",
    "Example 1:\n",
    "Input: num1 = \"11\", num2 = \"123\"\n",
    "Output:\n",
    "\"134\"\n"
   ]
  },
  {
   "cell_type": "code",
   "execution_count": 23,
   "id": "43a41382",
   "metadata": {},
   "outputs": [
    {
     "name": "stdout",
     "output_type": "stream",
     "text": [
      "134\n"
     ]
    }
   ],
   "source": [
    "def addString(num1, num2):\n",
    "    carry = 0\n",
    "    num1 = list(num1)\n",
    "    num2 = list(num2)\n",
    "    res = ''\n",
    "\n",
    "    while num1 or num2 or carry:\n",
    "        if num1:\n",
    "            carry += int(num1.pop())\n",
    "        if num2:\n",
    "            carry += int(num2.pop())\n",
    "\n",
    "        res += str((carry % 10))\n",
    "        carry //= 10\n",
    "\n",
    "    return res[::-1]\n",
    "\n",
    "num1 = \"11\"\n",
    "num2 = \"123\"\n",
    "\n",
    "result = addString(num1, num2)\n",
    "\n",
    "print(result)"
   ]
  },
  {
   "cell_type": "markdown",
   "id": "3559492d",
   "metadata": {},
   "source": [
    "💡 Question 4\n",
    "\n",
    "Given a string s, reverse the order of characters in each word within a sentence while still preserving whitespace and initial word order.\n",
    "Example 1:\n",
    "Input: s = \"Let's take LeetCode contest\"\n",
    "Output: \"s'teL ekat edoCteeL tsetnoc\"\n"
   ]
  },
  {
   "cell_type": "code",
   "execution_count": 32,
   "id": "83d76beb",
   "metadata": {},
   "outputs": [
    {
     "name": "stdout",
     "output_type": "stream",
     "text": [
      "Let's\n",
      "take\n",
      "LeetCode\n",
      "contest\n",
      "s'teL ekat edoCteeL tsetnoc\n"
     ]
    }
   ],
   "source": [
    "def reverseString(s):\n",
    "    l = s.split()\n",
    "    \n",
    "    for i in range(len(l)):\n",
    "        print(l[i])\n",
    "        l[i] = l[i][::-1]\n",
    "        \n",
    "    return ' '.join(l)\n",
    "\n",
    "s = \"Let's take LeetCode contest\"\n",
    "result = reverseString(s)\n",
    "\n",
    "print(result)\n"
   ]
  },
  {
   "cell_type": "markdown",
   "id": "220008b1",
   "metadata": {},
   "source": [
    "💡 Question 5\n",
    "\n",
    "Given a string s and an integer k, reverse the first k characters for every 2k characters counting from the start of the string.\n",
    "If there are fewer than k characters left, reverse all of them. If there are less than 2k but greater than or equal to k characters, then reverse the first k characters and leave the other as original.\n",
    "Example 1:\n",
    "Input: s = \"abcdefg\", k = 2\n",
    "Output:\n",
    "\"bacdfeg\"\n"
   ]
  },
  {
   "cell_type": "code",
   "execution_count": 44,
   "id": "1d7ef7ab",
   "metadata": {},
   "outputs": [
    {
     "name": "stdout",
     "output_type": "stream",
     "text": [
      "bacdfeg\n"
     ]
    }
   ],
   "source": [
    "def revChar(s , k):\n",
    "    s_list = list(s)\n",
    "    n = len(s)\n",
    "    p1 = 0\n",
    "\n",
    "    while p1<n:\n",
    "        if p1 + k <= n:\n",
    "            s_list[p1:p1+k] = s_list[p1:p1+k][::-1]\n",
    "\n",
    "        else:\n",
    "            s_list[p1:] = s_list[p1:][::-1]\n",
    "\n",
    "        p1 += 2*k\n",
    "\n",
    "    return ''.join(s_list)\n",
    "    \n",
    "s = \"abcdefg\"\n",
    "k = 2\n",
    "result = revChar(s, k)\n",
    "\n",
    "print(result)"
   ]
  },
  {
   "cell_type": "markdown",
   "id": "787c86d8",
   "metadata": {},
   "source": [
    "💡 Question 6\n",
    "\n",
    "Given two strings s and goal, return true if and only if s can become goal after some number of shifts on s.\n",
    "A shift on s consists of moving the leftmost character of s to the rightmost position.\n",
    "•\tFor example, if s = \"abcde\", then it will be \"bcdea\" after one shift.\n",
    "Example 1:\n",
    "Input: s = \"abcde\", goal = \"cdeab\"\n",
    "Output:\n",
    "true\n"
   ]
  },
  {
   "cell_type": "code",
   "execution_count": 45,
   "id": "3da0e54b",
   "metadata": {},
   "outputs": [
    {
     "name": "stdout",
     "output_type": "stream",
     "text": [
      "True\n"
     ]
    }
   ],
   "source": [
    "def sameStr(s, goal):\n",
    "    for i in range(len(s)):\n",
    "        if s[i] == goal[0]:\n",
    "            if s[i:] + s[:i] == goal:\n",
    "                return True\n",
    "    return False\n",
    "\n",
    "s = \"abcde\"\n",
    "goal = \"cdeab\"\n",
    "\n",
    "result = sameStr(s, goal)\n",
    "\n",
    "print(result)"
   ]
  },
  {
   "cell_type": "markdown",
   "id": "9062bea6",
   "metadata": {},
   "source": [
    "💡 Question 7\n",
    "\n",
    "Given two strings s and t, return true if they are equal when both are typed into empty text editors. '#' means a backspace character.\n",
    "Note that after backspacing an empty text, the text will continue empty.\n",
    "Example 1:\n",
    "Input: s = \"ab#c\", t = \"ad#c\"\n",
    "Output: true\n",
    "Explanation:\n",
    "Both s and t become \"ac\".\n",
    "\n"
   ]
  },
  {
   "cell_type": "code",
   "execution_count": 47,
   "id": "1abf7f03",
   "metadata": {},
   "outputs": [
    {
     "name": "stdout",
     "output_type": "stream",
     "text": [
      "True\n"
     ]
    }
   ],
   "source": [
    "def chkStr(s, t):\n",
    "    x = []\n",
    "    y = []\n",
    "\n",
    "    for i in range(len(s)):\n",
    "        if x and s[i]=='#':\n",
    "            x.pop()\n",
    "        else:\n",
    "            if s[i]!='#':\n",
    "                x.append(s[i])\n",
    "\n",
    "\n",
    "    for i in range(len(t)):\n",
    "        if y and t[i]=='#':\n",
    "            y.pop()\n",
    "        else:\n",
    "            if t[i]!='#':\n",
    "                y.append(t[i])\n",
    "\n",
    "    return x==y\n",
    "\n",
    "s = \"ab#c\"\n",
    "t = \"ad#c\"\n",
    "\n",
    "result = chkStr(s, t)\n",
    "print(result)"
   ]
  },
  {
   "cell_type": "markdown",
   "id": "ed66e246",
   "metadata": {},
   "source": [
    "💡 Question 8\n",
    "\n",
    "You are given an array coordinates, coordinates[i] = [x, y], where [x, y] represents the coordinate of a point. Check if these points make a straight line in the XY plane.\n",
    "Example 1:\n",
    "Input: coordinates = [[1,2],[2,3],[3,4],[4,5],[5,6],[6,7]]\n",
    "Output: true\n",
    "\n"
   ]
  },
  {
   "cell_type": "code",
   "execution_count": 48,
   "id": "7ec7c432",
   "metadata": {},
   "outputs": [
    {
     "name": "stdout",
     "output_type": "stream",
     "text": [
      "True\n"
     ]
    }
   ],
   "source": [
    "def Line(coordinates):\n",
    "    x0, y0 = coordinates[0][0], coordinates[0][1]\n",
    "\n",
    "    x1, y1 = coordinates[1][0], coordinates[1][1]\n",
    "\n",
    "    for i in range(2, len(coordinates)):\n",
    "        x, y =  coordinates[i][0], coordinates[i][1]\n",
    "\n",
    "        if (y1-y0) * (x-x1) != (y-y1) * (x1-x0):\n",
    "            return False\n",
    "\n",
    "    return True\n",
    "\n",
    "coordinates = [[1,2],[2,3],[3,4],[4,5],[5,6],[6,7]]\n",
    "\n",
    "result = Line(coordinates)\n",
    "\n",
    "print(result)"
   ]
  }
 ],
 "metadata": {
  "kernelspec": {
   "display_name": "Python 3 (ipykernel)",
   "language": "python",
   "name": "python3"
  },
  "language_info": {
   "codemirror_mode": {
    "name": "ipython",
    "version": 3
   },
   "file_extension": ".py",
   "mimetype": "text/x-python",
   "name": "python",
   "nbconvert_exporter": "python",
   "pygments_lexer": "ipython3",
   "version": "3.11.3"
  }
 },
 "nbformat": 4,
 "nbformat_minor": 5
}
